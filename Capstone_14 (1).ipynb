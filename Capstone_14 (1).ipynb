{
 "cells": [
  {
   "cell_type": "code",
   "execution_count": 2,
   "metadata": {},
   "outputs": [],
   "source": [
    "import pandas as pd\n",
    "import numpy as np "
   ]
  },
  {
   "cell_type": "code",
   "execution_count": 3,
   "metadata": {},
   "outputs": [
    {
     "data": {
      "text/html": [
       "<div>\n",
       "<style scoped>\n",
       "    .dataframe tbody tr th:only-of-type {\n",
       "        vertical-align: middle;\n",
       "    }\n",
       "\n",
       "    .dataframe tbody tr th {\n",
       "        vertical-align: top;\n",
       "    }\n",
       "\n",
       "    .dataframe thead th {\n",
       "        text-align: right;\n",
       "    }\n",
       "</style>\n",
       "<table border=\"1\" class=\"dataframe\">\n",
       "  <thead>\n",
       "    <tr style=\"text-align: right;\">\n",
       "      <th></th>\n",
       "      <th>name</th>\n",
       "      <th>asins</th>\n",
       "      <th>brand</th>\n",
       "      <th>categories</th>\n",
       "      <th>primaryCategories</th>\n",
       "      <th>keys</th>\n",
       "      <th>manufacturer</th>\n",
       "      <th>date</th>\n",
       "      <th>Genuine or non genuine</th>\n",
       "      <th>pos_neg</th>\n",
       "      <th>rating</th>\n",
       "      <th>Website</th>\n",
       "      <th>sourceURLs_review</th>\n",
       "      <th>reviews</th>\n",
       "      <th>reviews_title</th>\n",
       "      <th>username</th>\n",
       "      <th>sourceURLs</th>\n",
       "    </tr>\n",
       "  </thead>\n",
       "  <tbody>\n",
       "    <tr>\n",
       "      <th>0</th>\n",
       "      <td>AmazonBasics AAA Performance Alkaline Batterie...</td>\n",
       "      <td>B00QWO9P0O,B00LH3DMUO</td>\n",
       "      <td>Amazonbasics</td>\n",
       "      <td>AA,AAA,Health,Electronics,Health &amp; Household,C...</td>\n",
       "      <td>Health &amp; Beauty</td>\n",
       "      <td>amazonbasics/hl002619,amazonbasicsaaaperforman...</td>\n",
       "      <td>AmazonBasics</td>\n",
       "      <td>2017-03-02T00:00:00.000Z</td>\n",
       "      <td>True</td>\n",
       "      <td>1.0</td>\n",
       "      <td>3</td>\n",
       "      <td>Amazon</td>\n",
       "      <td>https://www.amazon.com/product-reviews/B00QWO9...</td>\n",
       "      <td>I order 3 of them and one of the item is bad q...</td>\n",
       "      <td>... 3 of them and one of the item is bad quali...</td>\n",
       "      <td>Byger yang</td>\n",
       "      <td>https://www.barcodable.com/upc/841710106442,ht...</td>\n",
       "    </tr>\n",
       "    <tr>\n",
       "      <th>1</th>\n",
       "      <td>AmazonBasics AAA Performance Alkaline Batterie...</td>\n",
       "      <td>B00QWO9P0O,B00LH3DMUO</td>\n",
       "      <td>Amazonbasics</td>\n",
       "      <td>AA,AAA,Health,Electronics,Health &amp; Household,C...</td>\n",
       "      <td>Health &amp; Beauty</td>\n",
       "      <td>amazonbasics/hl002619,amazonbasicsaaaperforman...</td>\n",
       "      <td>AmazonBasics</td>\n",
       "      <td>2016-08-31T00:00:00.000Z</td>\n",
       "      <td>True</td>\n",
       "      <td>1.0</td>\n",
       "      <td>4</td>\n",
       "      <td>Amazon</td>\n",
       "      <td>https://www.amazon.com/product-reviews/B00QWO9...</td>\n",
       "      <td>Bulk is always the less expensive way to go fo...</td>\n",
       "      <td>... always the less expensive way to go for pr...</td>\n",
       "      <td>ByMG</td>\n",
       "      <td>https://www.barcodable.com/upc/841710106442,ht...</td>\n",
       "    </tr>\n",
       "    <tr>\n",
       "      <th>2</th>\n",
       "      <td>AmazonBasics AAA Performance Alkaline Batterie...</td>\n",
       "      <td>B00QWO9P0O,B00LH3DMUO</td>\n",
       "      <td>Amazonbasics</td>\n",
       "      <td>AA,AAA,Health,Electronics,Health &amp; Household,C...</td>\n",
       "      <td>Health &amp; Beauty</td>\n",
       "      <td>amazonbasics/hl002619,amazonbasicsaaaperforman...</td>\n",
       "      <td>AmazonBasics</td>\n",
       "      <td>2016-12-06T00:00:00.000Z</td>\n",
       "      <td>True</td>\n",
       "      <td>1.0</td>\n",
       "      <td>5</td>\n",
       "      <td>Amazon</td>\n",
       "      <td>https://www.amazon.com/product-reviews/B00QWO9...</td>\n",
       "      <td>Well they are not Duracell but for the price i...</td>\n",
       "      <td>... are not Duracell but for the price i am ha...</td>\n",
       "      <td>BySharon Lambert</td>\n",
       "      <td>https://www.barcodable.com/upc/841710106442,ht...</td>\n",
       "    </tr>\n",
       "    <tr>\n",
       "      <th>3</th>\n",
       "      <td>AmazonBasics AAA Performance Alkaline Batterie...</td>\n",
       "      <td>B00QWO9P0O,B00LH3DMUO</td>\n",
       "      <td>Amazonbasics</td>\n",
       "      <td>AA,AAA,Health,Electronics,Health &amp; Household,C...</td>\n",
       "      <td>Health &amp; Beauty</td>\n",
       "      <td>amazonbasics/hl002619,amazonbasicsaaaperforman...</td>\n",
       "      <td>AmazonBasics</td>\n",
       "      <td>2016-03-28T00:00:00.000Z</td>\n",
       "      <td>True</td>\n",
       "      <td>1.0</td>\n",
       "      <td>5</td>\n",
       "      <td>Amazon</td>\n",
       "      <td>https://www.amazon.com/product-reviews/B00QWO9...</td>\n",
       "      <td>Seem to work as well as name brand batteries a...</td>\n",
       "      <td>... as well as name brand batteries at a much ...</td>\n",
       "      <td>Bymark sexson</td>\n",
       "      <td>https://www.barcodable.com/upc/841710106442,ht...</td>\n",
       "    </tr>\n",
       "    <tr>\n",
       "      <th>4</th>\n",
       "      <td>AmazonBasics AAA Performance Alkaline Batterie...</td>\n",
       "      <td>B00QWO9P0O,B00LH3DMUO</td>\n",
       "      <td>Amazonbasics</td>\n",
       "      <td>AA,AAA,Health,Electronics,Health &amp; Household,C...</td>\n",
       "      <td>Health &amp; Beauty</td>\n",
       "      <td>amazonbasics/hl002619,amazonbasicsaaaperforman...</td>\n",
       "      <td>AmazonBasics</td>\n",
       "      <td>2017-04-22T00:00:00.000Z</td>\n",
       "      <td>True</td>\n",
       "      <td>1.0</td>\n",
       "      <td>5</td>\n",
       "      <td>Amazon</td>\n",
       "      <td>https://www.amazon.com/product-reviews/B00QWO9...</td>\n",
       "      <td>These batteries are very long lasting the pric...</td>\n",
       "      <td>... batteries are very long lasting the price ...</td>\n",
       "      <td>Bylinda</td>\n",
       "      <td>https://www.barcodable.com/upc/841710106442,ht...</td>\n",
       "    </tr>\n",
       "    <tr>\n",
       "      <th>...</th>\n",
       "      <td>...</td>\n",
       "      <td>...</td>\n",
       "      <td>...</td>\n",
       "      <td>...</td>\n",
       "      <td>...</td>\n",
       "      <td>...</td>\n",
       "      <td>...</td>\n",
       "      <td>...</td>\n",
       "      <td>...</td>\n",
       "      <td>...</td>\n",
       "      <td>...</td>\n",
       "      <td>...</td>\n",
       "      <td>...</td>\n",
       "      <td>...</td>\n",
       "      <td>...</td>\n",
       "      <td>...</td>\n",
       "      <td>...</td>\n",
       "    </tr>\n",
       "    <tr>\n",
       "      <th>33327</th>\n",
       "      <td>Fire Tablet with Alexa, 7\" Display, 16 GB, Mag...</td>\n",
       "      <td>B018Y224PY</td>\n",
       "      <td>Amazon</td>\n",
       "      <td>Tablets,Fire Tablets,Electronics,iPad &amp; Tablet...</td>\n",
       "      <td>Electronics</td>\n",
       "      <td>841667103150,0841667103150,firetabletwithalexa...</td>\n",
       "      <td>Amazon</td>\n",
       "      <td>2016-10-21T00:00:00.000Z</td>\n",
       "      <td>True</td>\n",
       "      <td>1.0</td>\n",
       "      <td>5</td>\n",
       "      <td>BestBuy</td>\n",
       "      <td>http://reviews.bestbuy.com/3545/5025900/review...</td>\n",
       "      <td>This is a great tablet for the price. Amazon i...</td>\n",
       "      <td>Good product</td>\n",
       "      <td>litle</td>\n",
       "      <td>https://www.barcodable.com/upc/841667103150,ht...</td>\n",
       "    </tr>\n",
       "    <tr>\n",
       "      <th>33328</th>\n",
       "      <td>Fire Tablet with Alexa, 7\" Display, 16 GB, Mag...</td>\n",
       "      <td>B018Y224PY</td>\n",
       "      <td>Amazon</td>\n",
       "      <td>Tablets,Fire Tablets,Electronics,iPad &amp; Tablet...</td>\n",
       "      <td>Electronics</td>\n",
       "      <td>841667103150,0841667103150,firetabletwithalexa...</td>\n",
       "      <td>Amazon</td>\n",
       "      <td>2016-08-10T00:00:00.000Z</td>\n",
       "      <td>True</td>\n",
       "      <td>1.0</td>\n",
       "      <td>5</td>\n",
       "      <td>BestBuy</td>\n",
       "      <td>http://reviews.bestbuy.com/3545/5025900/review...</td>\n",
       "      <td>This tablet is the perfect size and so easy to...</td>\n",
       "      <td>Great Tablet</td>\n",
       "      <td>gracie</td>\n",
       "      <td>https://www.barcodable.com/upc/841667103150,ht...</td>\n",
       "    </tr>\n",
       "    <tr>\n",
       "      <th>33329</th>\n",
       "      <td>Fire Tablet with Alexa, 7\" Display, 16 GB, Mag...</td>\n",
       "      <td>B018Y224PY</td>\n",
       "      <td>Amazon</td>\n",
       "      <td>Tablets,Fire Tablets,Electronics,iPad &amp; Tablet...</td>\n",
       "      <td>Electronics</td>\n",
       "      <td>841667103150,0841667103150,firetabletwithalexa...</td>\n",
       "      <td>Amazon</td>\n",
       "      <td>2016-06-05T00:00:00.000Z</td>\n",
       "      <td>False</td>\n",
       "      <td>0.0</td>\n",
       "      <td>4</td>\n",
       "      <td>BestBuy</td>\n",
       "      <td>http://reviews.bestbuy.com/3545/5025900/review...</td>\n",
       "      <td>Purchased this for my son. Has room to upgrade...</td>\n",
       "      <td>Great for kids or smaller needs</td>\n",
       "      <td>Hawk</td>\n",
       "      <td>https://www.barcodable.com/upc/841667103150,ht...</td>\n",
       "    </tr>\n",
       "    <tr>\n",
       "      <th>33330</th>\n",
       "      <td>Fire Tablet with Alexa, 7\" Display, 16 GB, Mag...</td>\n",
       "      <td>B018Y224PY</td>\n",
       "      <td>Amazon</td>\n",
       "      <td>Tablets,Fire Tablets,Electronics,iPad &amp; Tablet...</td>\n",
       "      <td>Electronics</td>\n",
       "      <td>841667103150,0841667103150,firetabletwithalexa...</td>\n",
       "      <td>Amazon</td>\n",
       "      <td>2016-09-02T00:00:00.000Z</td>\n",
       "      <td>True</td>\n",
       "      <td>1.0</td>\n",
       "      <td>5</td>\n",
       "      <td>BestBuy</td>\n",
       "      <td>http://reviews.bestbuy.com/3545/5025900/review...</td>\n",
       "      <td>I had some thoughts about getting this for a 5...</td>\n",
       "      <td>Very sturdy for a 5 year old</td>\n",
       "      <td>Mrbilly</td>\n",
       "      <td>https://www.barcodable.com/upc/841667103150,ht...</td>\n",
       "    </tr>\n",
       "    <tr>\n",
       "      <th>33331</th>\n",
       "      <td>Fire Tablet with Alexa, 7\" Display, 16 GB, Mag...</td>\n",
       "      <td>B018Y224PY</td>\n",
       "      <td>Amazon</td>\n",
       "      <td>Tablets,Fire Tablets,Electronics,iPad &amp; Tablet...</td>\n",
       "      <td>Electronics</td>\n",
       "      <td>841667103150,0841667103150,firetabletwithalexa...</td>\n",
       "      <td>Amazon</td>\n",
       "      <td>2016-05-19T00:00:00.000Z</td>\n",
       "      <td>False</td>\n",
       "      <td>0.0</td>\n",
       "      <td>5</td>\n",
       "      <td>BestBuy</td>\n",
       "      <td>http://reviews.bestbuy.com/3545/5025900/review...</td>\n",
       "      <td>this is a steal, have 8 gb model as well.This ...</td>\n",
       "      <td>great little tablet</td>\n",
       "      <td>tabman</td>\n",
       "      <td>https://www.barcodable.com/upc/841667103150,ht...</td>\n",
       "    </tr>\n",
       "  </tbody>\n",
       "</table>\n",
       "<p>33332 rows × 17 columns</p>\n",
       "</div>"
      ],
      "text/plain": [
       "                                                    name  \\\n",
       "0      AmazonBasics AAA Performance Alkaline Batterie...   \n",
       "1      AmazonBasics AAA Performance Alkaline Batterie...   \n",
       "2      AmazonBasics AAA Performance Alkaline Batterie...   \n",
       "3      AmazonBasics AAA Performance Alkaline Batterie...   \n",
       "4      AmazonBasics AAA Performance Alkaline Batterie...   \n",
       "...                                                  ...   \n",
       "33327  Fire Tablet with Alexa, 7\" Display, 16 GB, Mag...   \n",
       "33328  Fire Tablet with Alexa, 7\" Display, 16 GB, Mag...   \n",
       "33329  Fire Tablet with Alexa, 7\" Display, 16 GB, Mag...   \n",
       "33330  Fire Tablet with Alexa, 7\" Display, 16 GB, Mag...   \n",
       "33331  Fire Tablet with Alexa, 7\" Display, 16 GB, Mag...   \n",
       "\n",
       "                       asins         brand  \\\n",
       "0      B00QWO9P0O,B00LH3DMUO  Amazonbasics   \n",
       "1      B00QWO9P0O,B00LH3DMUO  Amazonbasics   \n",
       "2      B00QWO9P0O,B00LH3DMUO  Amazonbasics   \n",
       "3      B00QWO9P0O,B00LH3DMUO  Amazonbasics   \n",
       "4      B00QWO9P0O,B00LH3DMUO  Amazonbasics   \n",
       "...                      ...           ...   \n",
       "33327             B018Y224PY        Amazon   \n",
       "33328             B018Y224PY        Amazon   \n",
       "33329             B018Y224PY        Amazon   \n",
       "33330             B018Y224PY        Amazon   \n",
       "33331             B018Y224PY        Amazon   \n",
       "\n",
       "                                              categories primaryCategories  \\\n",
       "0      AA,AAA,Health,Electronics,Health & Household,C...   Health & Beauty   \n",
       "1      AA,AAA,Health,Electronics,Health & Household,C...   Health & Beauty   \n",
       "2      AA,AAA,Health,Electronics,Health & Household,C...   Health & Beauty   \n",
       "3      AA,AAA,Health,Electronics,Health & Household,C...   Health & Beauty   \n",
       "4      AA,AAA,Health,Electronics,Health & Household,C...   Health & Beauty   \n",
       "...                                                  ...               ...   \n",
       "33327  Tablets,Fire Tablets,Electronics,iPad & Tablet...       Electronics   \n",
       "33328  Tablets,Fire Tablets,Electronics,iPad & Tablet...       Electronics   \n",
       "33329  Tablets,Fire Tablets,Electronics,iPad & Tablet...       Electronics   \n",
       "33330  Tablets,Fire Tablets,Electronics,iPad & Tablet...       Electronics   \n",
       "33331  Tablets,Fire Tablets,Electronics,iPad & Tablet...       Electronics   \n",
       "\n",
       "                                                    keys  manufacturer  \\\n",
       "0      amazonbasics/hl002619,amazonbasicsaaaperforman...  AmazonBasics   \n",
       "1      amazonbasics/hl002619,amazonbasicsaaaperforman...  AmazonBasics   \n",
       "2      amazonbasics/hl002619,amazonbasicsaaaperforman...  AmazonBasics   \n",
       "3      amazonbasics/hl002619,amazonbasicsaaaperforman...  AmazonBasics   \n",
       "4      amazonbasics/hl002619,amazonbasicsaaaperforman...  AmazonBasics   \n",
       "...                                                  ...           ...   \n",
       "33327  841667103150,0841667103150,firetabletwithalexa...        Amazon   \n",
       "33328  841667103150,0841667103150,firetabletwithalexa...        Amazon   \n",
       "33329  841667103150,0841667103150,firetabletwithalexa...        Amazon   \n",
       "33330  841667103150,0841667103150,firetabletwithalexa...        Amazon   \n",
       "33331  841667103150,0841667103150,firetabletwithalexa...        Amazon   \n",
       "\n",
       "                           date  Genuine or non genuine  pos_neg  rating  \\\n",
       "0      2017-03-02T00:00:00.000Z                    True      1.0       3   \n",
       "1      2016-08-31T00:00:00.000Z                    True      1.0       4   \n",
       "2      2016-12-06T00:00:00.000Z                    True      1.0       5   \n",
       "3      2016-03-28T00:00:00.000Z                    True      1.0       5   \n",
       "4      2017-04-22T00:00:00.000Z                    True      1.0       5   \n",
       "...                         ...                     ...      ...     ...   \n",
       "33327  2016-10-21T00:00:00.000Z                    True      1.0       5   \n",
       "33328  2016-08-10T00:00:00.000Z                    True      1.0       5   \n",
       "33329  2016-06-05T00:00:00.000Z                   False      0.0       4   \n",
       "33330  2016-09-02T00:00:00.000Z                    True      1.0       5   \n",
       "33331  2016-05-19T00:00:00.000Z                   False      0.0       5   \n",
       "\n",
       "       Website                                  sourceURLs_review  \\\n",
       "0       Amazon  https://www.amazon.com/product-reviews/B00QWO9...   \n",
       "1       Amazon  https://www.amazon.com/product-reviews/B00QWO9...   \n",
       "2       Amazon  https://www.amazon.com/product-reviews/B00QWO9...   \n",
       "3       Amazon  https://www.amazon.com/product-reviews/B00QWO9...   \n",
       "4       Amazon  https://www.amazon.com/product-reviews/B00QWO9...   \n",
       "...        ...                                                ...   \n",
       "33327  BestBuy  http://reviews.bestbuy.com/3545/5025900/review...   \n",
       "33328  BestBuy  http://reviews.bestbuy.com/3545/5025900/review...   \n",
       "33329  BestBuy  http://reviews.bestbuy.com/3545/5025900/review...   \n",
       "33330  BestBuy  http://reviews.bestbuy.com/3545/5025900/review...   \n",
       "33331  BestBuy  http://reviews.bestbuy.com/3545/5025900/review...   \n",
       "\n",
       "                                                 reviews  \\\n",
       "0      I order 3 of them and one of the item is bad q...   \n",
       "1      Bulk is always the less expensive way to go fo...   \n",
       "2      Well they are not Duracell but for the price i...   \n",
       "3      Seem to work as well as name brand batteries a...   \n",
       "4      These batteries are very long lasting the pric...   \n",
       "...                                                  ...   \n",
       "33327  This is a great tablet for the price. Amazon i...   \n",
       "33328  This tablet is the perfect size and so easy to...   \n",
       "33329  Purchased this for my son. Has room to upgrade...   \n",
       "33330  I had some thoughts about getting this for a 5...   \n",
       "33331  this is a steal, have 8 gb model as well.This ...   \n",
       "\n",
       "                                           reviews_title          username  \\\n",
       "0      ... 3 of them and one of the item is bad quali...        Byger yang   \n",
       "1      ... always the less expensive way to go for pr...              ByMG   \n",
       "2      ... are not Duracell but for the price i am ha...  BySharon Lambert   \n",
       "3      ... as well as name brand batteries at a much ...     Bymark sexson   \n",
       "4      ... batteries are very long lasting the price ...           Bylinda   \n",
       "...                                                  ...               ...   \n",
       "33327                                       Good product             litle   \n",
       "33328                                       Great Tablet            gracie   \n",
       "33329                    Great for kids or smaller needs              Hawk   \n",
       "33330                       Very sturdy for a 5 year old           Mrbilly   \n",
       "33331                                great little tablet            tabman   \n",
       "\n",
       "                                              sourceURLs  \n",
       "0      https://www.barcodable.com/upc/841710106442,ht...  \n",
       "1      https://www.barcodable.com/upc/841710106442,ht...  \n",
       "2      https://www.barcodable.com/upc/841710106442,ht...  \n",
       "3      https://www.barcodable.com/upc/841710106442,ht...  \n",
       "4      https://www.barcodable.com/upc/841710106442,ht...  \n",
       "...                                                  ...  \n",
       "33327  https://www.barcodable.com/upc/841667103150,ht...  \n",
       "33328  https://www.barcodable.com/upc/841667103150,ht...  \n",
       "33329  https://www.barcodable.com/upc/841667103150,ht...  \n",
       "33330  https://www.barcodable.com/upc/841667103150,ht...  \n",
       "33331  https://www.barcodable.com/upc/841667103150,ht...  \n",
       "\n",
       "[33332 rows x 17 columns]"
      ]
     },
     "execution_count": 3,
     "metadata": {},
     "output_type": "execute_result"
    }
   ],
   "source": [
    "rev = pd.read_csv(\"final_caps.csv\",encoding = 'unicode_escape', header=0)\n",
    "rev"
   ]
  },
  {
   "cell_type": "code",
   "execution_count": 4,
   "metadata": {},
   "outputs": [
    {
     "name": "stdout",
     "output_type": "stream",
     "text": [
      "<class 'pandas.core.frame.DataFrame'>\n",
      "RangeIndex: 33332 entries, 0 to 33331\n",
      "Data columns (total 17 columns):\n",
      "name                      33332 non-null object\n",
      "asins                     33332 non-null object\n",
      "brand                     33332 non-null object\n",
      "categories                33332 non-null object\n",
      "primaryCategories         33332 non-null object\n",
      "keys                      33332 non-null object\n",
      "manufacturer              33332 non-null object\n",
      "date                      33332 non-null object\n",
      "Genuine or non genuine    33332 non-null bool\n",
      "pos_neg                   32949 non-null float64\n",
      "rating                    33332 non-null int64\n",
      "Website                   33258 non-null object\n",
      "sourceURLs_review         33332 non-null object\n",
      "reviews                   33332 non-null object\n",
      "reviews_title             33319 non-null object\n",
      "username                  33332 non-null object\n",
      "sourceURLs                33332 non-null object\n",
      "dtypes: bool(1), float64(1), int64(1), object(14)\n",
      "memory usage: 4.1+ MB\n"
     ]
    }
   ],
   "source": [
    "rev.info()"
   ]
  },
  {
   "cell_type": "code",
   "execution_count": 5,
   "metadata": {},
   "outputs": [
    {
     "data": {
      "text/plain": [
       "primaryCategories\n",
       "Animals & Pet Supplies         [Cat Litter Box Covered Tray Kitten Extra Larg...\n",
       "Electronics                    [AmazonBasics Nylon CD/DVD Binder (400 Capacit...\n",
       "Electronics,Furniture          [All-new Echo (2nd Generation) with improved s...\n",
       "Electronics,Hardware           [Amazon Echo Show Alexa-enabled Bluetooth Spea...\n",
       "Electronics,Media              [Kindle Voyage E-reader, 6 High-Resolution Dis...\n",
       "Health & Beauty                [AmazonBasics AAA Performance Alkaline Batteri...\n",
       "Home & Garden                  [AmazonBasics Silicone Hot Handle Cover/Holder...\n",
       "Office Supplies                [Expanding Accordion File Folder Plastic Porta...\n",
       "Office Supplies,Electronics    [Fire HD 10 Tablet, 10.1 HD Display, Wi-Fi, 16...\n",
       "Toys & Games,Electronics       [Fire Kids Edition Tablet, 7 Display, Wi-Fi, 1...\n",
       "Name: name, dtype: object"
      ]
     },
     "execution_count": 5,
     "metadata": {},
     "output_type": "execute_result"
    }
   ],
   "source": [
    "rev.groupby(\"primaryCategories\")[\"name\"].unique()"
   ]
  },
  {
   "cell_type": "code",
   "execution_count": 6,
   "metadata": {},
   "outputs": [
    {
     "data": {
      "text/plain": [
       "4.5264610584423375"
      ]
     },
     "execution_count": 6,
     "metadata": {},
     "output_type": "execute_result"
    }
   ],
   "source": [
    "# Entire training dataset average rating\n",
    "rev[\"rating\"].mean()"
   ]
  },
  {
   "cell_type": "markdown",
   "metadata": {},
   "source": [
    "# Correlation"
   ]
  },
  {
   "cell_type": "code",
   "execution_count": 7,
   "metadata": {},
   "outputs": [
    {
     "data": {
      "text/html": [
       "<div>\n",
       "<style scoped>\n",
       "    .dataframe tbody tr th:only-of-type {\n",
       "        vertical-align: middle;\n",
       "    }\n",
       "\n",
       "    .dataframe tbody tr th {\n",
       "        vertical-align: top;\n",
       "    }\n",
       "\n",
       "    .dataframe thead th {\n",
       "        text-align: right;\n",
       "    }\n",
       "</style>\n",
       "<table border=\"1\" class=\"dataframe\">\n",
       "  <thead>\n",
       "    <tr style=\"text-align: right;\">\n",
       "      <th></th>\n",
       "      <th>Genuine or non genuine</th>\n",
       "      <th>pos_neg</th>\n",
       "      <th>rating</th>\n",
       "    </tr>\n",
       "  </thead>\n",
       "  <tbody>\n",
       "    <tr>\n",
       "      <th>Genuine or non genuine</th>\n",
       "      <td>1.000000</td>\n",
       "      <td>0.997556</td>\n",
       "      <td>0.026718</td>\n",
       "    </tr>\n",
       "    <tr>\n",
       "      <th>pos_neg</th>\n",
       "      <td>0.997556</td>\n",
       "      <td>1.000000</td>\n",
       "      <td>0.027685</td>\n",
       "    </tr>\n",
       "    <tr>\n",
       "      <th>rating</th>\n",
       "      <td>0.026718</td>\n",
       "      <td>0.027685</td>\n",
       "      <td>1.000000</td>\n",
       "    </tr>\n",
       "  </tbody>\n",
       "</table>\n",
       "</div>"
      ],
      "text/plain": [
       "                        Genuine or non genuine   pos_neg    rating\n",
       "Genuine or non genuine                1.000000  0.997556  0.026718\n",
       "pos_neg                               0.997556  1.000000  0.027685\n",
       "rating                                0.026718  0.027685  1.000000"
      ]
     },
     "execution_count": 7,
     "metadata": {},
     "output_type": "execute_result"
    }
   ],
   "source": [
    "corr_matrix = rev.corr()\n",
    "corr_matrix\n"
   ]
  },
  {
   "cell_type": "markdown",
   "metadata": {},
   "source": [
    "# Splitting into Train and Test"
   ]
  },
  {
   "cell_type": "code",
   "execution_count": 8,
   "metadata": {},
   "outputs": [],
   "source": [
    "from sklearn.model_selection import StratifiedShuffleSplit\n",
    "split = StratifiedShuffleSplit(n_splits=5, test_size=0.2)\n",
    "for train_index, test_index in split.split(rev, rev[\"rating\"]): \n",
    "    strat_train = rev.reindex(train_index)\n",
    "    strat_test = rev.reindex(test_index)"
   ]
  },
  {
   "cell_type": "code",
   "execution_count": 9,
   "metadata": {},
   "outputs": [
    {
     "data": {
      "text/plain": [
       "26665"
      ]
     },
     "execution_count": 9,
     "metadata": {},
     "output_type": "execute_result"
    }
   ],
   "source": [
    "len(strat_train)"
   ]
  },
  {
   "cell_type": "code",
   "execution_count": 10,
   "metadata": {},
   "outputs": [
    {
     "data": {
      "text/plain": [
       "5    0.701294\n",
       "4    0.205700\n",
       "3    0.042078\n",
       "1    0.030827\n",
       "2    0.020101\n",
       "Name: rating, dtype: float64"
      ]
     },
     "execution_count": 10,
     "metadata": {},
     "output_type": "execute_result"
    }
   ],
   "source": [
    "strat_train[\"rating\"].value_counts()/len(strat_train) # value_count() counts all the values based on column"
   ]
  },
  {
   "cell_type": "code",
   "execution_count": 11,
   "metadata": {},
   "outputs": [
    {
     "data": {
      "text/plain": [
       "5    0.701215\n",
       "4    0.205640\n",
       "3    0.042148\n",
       "1    0.030898\n",
       "2    0.020099\n",
       "Name: rating, dtype: float64"
      ]
     },
     "execution_count": 11,
     "metadata": {},
     "output_type": "execute_result"
    }
   ],
   "source": [
    "strat_test[\"rating\"].value_counts()/len(strat_test) # value_count() counts all the values based on column"
   ]
  },
  {
   "cell_type": "markdown",
   "metadata": {},
   "source": [
    "# Sentimental Analysis"
   ]
  },
  {
   "cell_type": "code",
   "execution_count": 12,
   "metadata": {},
   "outputs": [
    {
     "data": {
      "text/plain": [
       "4741     Positive\n",
       "10029    Positive\n",
       "31294    Positive\n",
       "2206     Positive\n",
       "13735    Positive\n",
       "31557    Positive\n",
       "21833    Positive\n",
       "2340     Positive\n",
       "19971    Positive\n",
       "13745    Positive\n",
       "20331    Positive\n",
       "12898    Positive\n",
       "14177    Positive\n",
       "5627     Positive\n",
       "10309    Positive\n",
       "1311     Positive\n",
       "32299    Positive\n",
       "26849    Positive\n",
       "24903    Positive\n",
       "18652    Positive\n",
       "Name: Sentiment, dtype: object"
      ]
     },
     "execution_count": 12,
     "metadata": {},
     "output_type": "execute_result"
    }
   ],
   "source": [
    "def sentiments(rating):\n",
    "    if (rating == 5) or (rating == 4):\n",
    "        return \"Positive\"\n",
    "    elif rating == 3:\n",
    "        return \"Neutral\"\n",
    "    elif (rating == 2) or (rating == 1):\n",
    "        return \"Negative\"\n",
    "# Add sentiments to the data\n",
    "strat_train[\"Sentiment\"] = strat_train[\"rating\"].apply(sentiments)\n",
    "strat_test[\"Sentiment\"] = strat_test[\"rating\"].apply(sentiments)\n",
    "strat_train[\"Sentiment\"][:20]"
   ]
  },
  {
   "cell_type": "code",
   "execution_count": 13,
   "metadata": {},
   "outputs": [
    {
     "name": "stdout",
     "output_type": "stream",
     "text": [
      "Training Samples\n",
      "26665\n",
      "Testing Samples\n",
      "6667\n"
     ]
    }
   ],
   "source": [
    "X_train = strat_train[\"reviews_title\"]\n",
    "X_train_targetSentiment = strat_train[\"Sentiment\"]\n",
    "X_test = strat_test[\"reviews_title\"]\n",
    "X_test_targetSentiment = strat_test[\"Sentiment\"]\n",
    "print(\"Training Samples\")\n",
    "print(len(X_train))\n",
    "print(\"Testing Samples\")\n",
    "print(len(X_test))"
   ]
  },
  {
   "cell_type": "markdown",
   "metadata": {},
   "source": [
    "# Feature Extraction"
   ]
  },
  {
   "cell_type": "code",
   "execution_count": 14,
   "metadata": {},
   "outputs": [
    {
     "data": {
      "text/plain": [
       "(26665, 3034)"
      ]
     },
     "execution_count": 14,
     "metadata": {},
     "output_type": "execute_result"
    }
   ],
   "source": [
    "# Replace \"nan\" with space\n",
    "X_train = X_train.fillna(' ')\n",
    "X_test = X_test.fillna(' ')\n",
    "X_train_targetSentiment = X_train_targetSentiment.fillna(' ')\n",
    "X_test_targetSentiment = X_test_targetSentiment.fillna(' ')\n",
    "\n",
    "# Text preprocessing and occurance counting\n",
    "from sklearn.feature_extraction.text import CountVectorizer \n",
    "count_vect = CountVectorizer()\n",
    "X_train_counts = count_vect.fit_transform(X_train) \n",
    "X_train_counts.shape"
   ]
  },
  {
   "cell_type": "code",
   "execution_count": 15,
   "metadata": {},
   "outputs": [
    {
     "data": {
      "text/plain": [
       "(26665, 3034)"
      ]
     },
     "execution_count": 15,
     "metadata": {},
     "output_type": "execute_result"
    }
   ],
   "source": [
    "from sklearn.feature_extraction.text import TfidfTransformer\n",
    "tfidf_transformer = TfidfTransformer(use_idf=False)\n",
    "X_train_tfidf = tfidf_transformer.fit_transform(X_train_counts)\n",
    "X_train_tfidf.shape"
   ]
  },
  {
   "cell_type": "markdown",
   "metadata": {},
   "source": [
    "# To Build Pipeline from extracted feature"
   ]
  },
  {
   "cell_type": "code",
   "execution_count": 16,
   "metadata": {},
   "outputs": [
    {
     "data": {
      "text/plain": [
       "Pipeline(memory=None,\n",
       "         steps=[('vect',\n",
       "                 CountVectorizer(analyzer='word', binary=False,\n",
       "                                 decode_error='strict',\n",
       "                                 dtype=<class 'numpy.int64'>, encoding='utf-8',\n",
       "                                 input='content', lowercase=True, max_df=1.0,\n",
       "                                 max_features=None, min_df=1,\n",
       "                                 ngram_range=(1, 1), preprocessor=None,\n",
       "                                 stop_words=None, strip_accents=None,\n",
       "                                 token_pattern='(?u)\\\\b\\\\w\\\\w+\\\\b',\n",
       "                                 tokenizer=None, vocabulary=None)),\n",
       "                ('tfidf',\n",
       "                 TfidfTransformer(norm='l2', smooth_idf=True,\n",
       "                                  sublinear_tf=False, use_idf=True)),\n",
       "                ('clf_nominalNB',\n",
       "                 MultinomialNB(alpha=1.0, class_prior=None, fit_prior=True))],\n",
       "         verbose=False)"
      ]
     },
     "execution_count": 16,
     "metadata": {},
     "output_type": "execute_result"
    }
   ],
   "source": [
    "from sklearn.naive_bayes import MultinomialNB\n",
    "from sklearn.pipeline import Pipeline\n",
    "clf_multiNB_pipe = Pipeline([(\"vect\", CountVectorizer()), (\"tfidf\", TfidfTransformer()), (\"clf_nominalNB\", MultinomialNB())])\n",
    "clf_multiNB_pipe.fit(X_train, X_train_targetSentiment) "
   ]
  },
  {
   "cell_type": "markdown",
   "metadata": {},
   "source": [
    "# To Test the model"
   ]
  },
  {
   "cell_type": "code",
   "execution_count": 17,
   "metadata": {},
   "outputs": [
    {
     "data": {
      "text/plain": [
       "0.9328033598320083"
      ]
     },
     "execution_count": 17,
     "metadata": {},
     "output_type": "execute_result"
    }
   ],
   "source": [
    "import numpy as np\n",
    "predictedMultiNB = clf_multiNB_pipe.predict(X_test)\n",
    "np.mean(predictedMultiNB == X_test_targetSentiment)"
   ]
  },
  {
   "cell_type": "markdown",
   "metadata": {},
   "source": [
    "# Testing with different models"
   ]
  },
  {
   "cell_type": "markdown",
   "metadata": {},
   "source": [
    "Logistic Regression Classifier"
   ]
  },
  {
   "cell_type": "code",
   "execution_count": 18,
   "metadata": {},
   "outputs": [
    {
     "name": "stderr",
     "output_type": "stream",
     "text": [
      "C:\\Users\\kaura\\Anaconda3\\envs\\DAB3\\lib\\site-packages\\sklearn\\linear_model\\_logistic.py:940: ConvergenceWarning: lbfgs failed to converge (status=1):\n",
      "STOP: TOTAL NO. of ITERATIONS REACHED LIMIT.\n",
      "\n",
      "Increase the number of iterations (max_iter) or scale the data as shown in:\n",
      "    https://scikit-learn.org/stable/modules/preprocessing.html\n",
      "Please also refer to the documentation for alternative solver options:\n",
      "    https://scikit-learn.org/stable/modules/linear_model.html#logistic-regression\n",
      "  extra_warning_msg=_LOGISTIC_SOLVER_CONVERGENCE_MSG)\n"
     ]
    },
    {
     "data": {
      "text/plain": [
       "0.9424028798560072"
      ]
     },
     "execution_count": 18,
     "metadata": {},
     "output_type": "execute_result"
    }
   ],
   "source": [
    "from sklearn.linear_model import LogisticRegression\n",
    "from sklearn.pipeline import Pipeline\n",
    "clf_logReg_pipe = Pipeline([(\"vect\", CountVectorizer()), (\"tfidf\", TfidfTransformer()), (\"clf_logReg\", LogisticRegression())])\n",
    "clf_logReg_pipe.fit(X_train, X_train_targetSentiment)\n",
    "\n",
    "import numpy as np\n",
    "predictedLogReg = clf_logReg_pipe.predict(X_test)\n",
    "np.mean(predictedLogReg == X_test_targetSentiment)"
   ]
  },
  {
   "cell_type": "markdown",
   "metadata": {},
   "source": [
    "Support Vector Machine Classifier"
   ]
  },
  {
   "cell_type": "code",
   "execution_count": 19,
   "metadata": {},
   "outputs": [
    {
     "data": {
      "text/plain": [
       "0.9479526023698815"
      ]
     },
     "execution_count": 19,
     "metadata": {},
     "output_type": "execute_result"
    }
   ],
   "source": [
    "from sklearn.svm import LinearSVC\n",
    "clf_linearSVC_pipe = Pipeline([(\"vect\", CountVectorizer()), (\"tfidf\", TfidfTransformer()), (\"clf_linearSVC\", LinearSVC())])\n",
    "clf_linearSVC_pipe.fit(X_train, X_train_targetSentiment)\n",
    "\n",
    "predictedLinearSVC = clf_linearSVC_pipe.predict(X_test)\n",
    "np.mean(predictedLinearSVC == X_test_targetSentiment)"
   ]
  },
  {
   "cell_type": "markdown",
   "metadata": {},
   "source": [
    "Decision Tree Classifier"
   ]
  },
  {
   "cell_type": "code",
   "execution_count": 20,
   "metadata": {},
   "outputs": [
    {
     "data": {
      "text/plain": [
       "0.9584520773961301"
      ]
     },
     "execution_count": 20,
     "metadata": {},
     "output_type": "execute_result"
    }
   ],
   "source": [
    "from sklearn.tree import DecisionTreeClassifier\n",
    "clf_decisionTree_pipe = Pipeline([(\"vect\", CountVectorizer()), (\"tfidf\", TfidfTransformer()), \n",
    "                                  (\"clf_decisionTree\", DecisionTreeClassifier())])\n",
    "clf_decisionTree_pipe.fit(X_train, X_train_targetSentiment)\n",
    "\n",
    "predictedDecisionTree = clf_decisionTree_pipe.predict(X_test)\n",
    "np.mean(predictedDecisionTree == X_test_targetSentiment)"
   ]
  },
  {
   "cell_type": "markdown",
   "metadata": {},
   "source": [
    "Random Forest Classifier"
   ]
  },
  {
   "cell_type": "code",
   "execution_count": 21,
   "metadata": {},
   "outputs": [
    {
     "data": {
      "text/plain": [
       "0.9664016799160042"
      ]
     },
     "execution_count": 21,
     "metadata": {},
     "output_type": "execute_result"
    }
   ],
   "source": [
    "from sklearn.ensemble import RandomForestClassifier\n",
    "clf_randomForest_pipe = Pipeline([(\"vect\", CountVectorizer()), (\"tfidf\", TfidfTransformer()), (\"clf_randomForest\", RandomForestClassifier())])\n",
    "clf_randomForest_pipe.fit(X_train, X_train_targetSentiment)\n",
    "\n",
    "predictedRandomForest = clf_randomForest_pipe.predict(X_test)\n",
    "np.mean(predictedRandomForest == X_test_targetSentiment)"
   ]
  },
  {
   "cell_type": "code",
   "execution_count": 22,
   "metadata": {},
   "outputs": [
    {
     "name": "stdout",
     "output_type": "stream",
     "text": [
      "              precision    recall  f1-score   support\n",
      "\n",
      "    Negative       0.80      0.69      0.74       340\n",
      "     Neutral       0.74      0.37      0.49       281\n",
      "    Positive       0.96      0.99      0.97      6046\n",
      "\n",
      "    accuracy                           0.95      6667\n",
      "   macro avg       0.83      0.68      0.74      6667\n",
      "weighted avg       0.94      0.95      0.94      6667\n",
      "\n",
      "Accuracy: 0.9479526023698815\n"
     ]
    }
   ],
   "source": [
    "from sklearn.metrics import classification_report\n",
    "from sklearn.metrics import accuracy_score\n",
    "\n",
    "Accuracy=print(classification_report(X_test_targetSentiment, predictedLinearSVC))\n",
    "Accuracy=print('Accuracy: {}'. format(accuracy_score(X_test_targetSentiment, predictedLinearSVC)))"
   ]
  },
  {
   "cell_type": "code",
   "execution_count": 23,
   "metadata": {},
   "outputs": [
    {
     "name": "stdout",
     "output_type": "stream",
     "text": [
      "0.6808704361285624\n"
     ]
    }
   ],
   "source": [
    "# Calculate C\n",
    "C = rev['pos_neg'].mean()\n",
    "print(C)"
   ]
  },
  {
   "cell_type": "code",
   "execution_count": 24,
   "metadata": {},
   "outputs": [
    {
     "name": "stdout",
     "output_type": "stream",
     "text": [
      "1.0\n"
     ]
    }
   ],
   "source": [
    "# Calculate the minimum number of pos_neg required to be in the chart, m\n",
    "m = rev['pos_neg'].quantile(0.90)\n",
    "print(m)"
   ]
  },
  {
   "cell_type": "code",
   "execution_count": 25,
   "metadata": {},
   "outputs": [],
   "source": [
    "def weighted_rating(x, m=m, C=C):\n",
    "    v = x['rating']\n",
    "    R = x['pos_neg']\n",
    "\n",
    "    return (v/(v+m) * R) + (m/(m+v) * C)"
   ]
  },
  {
   "cell_type": "code",
   "execution_count": 26,
   "metadata": {},
   "outputs": [],
   "source": [
    "rev['score'] = rev.apply(weighted_rating, axis=1)"
   ]
  },
  {
   "cell_type": "code",
   "execution_count": 27,
   "metadata": {},
   "outputs": [
    {
     "data": {
      "text/html": [
       "<div>\n",
       "<style scoped>\n",
       "    .dataframe tbody tr th:only-of-type {\n",
       "        vertical-align: middle;\n",
       "    }\n",
       "\n",
       "    .dataframe tbody tr th {\n",
       "        vertical-align: top;\n",
       "    }\n",
       "\n",
       "    .dataframe thead th {\n",
       "        text-align: right;\n",
       "    }\n",
       "</style>\n",
       "<table border=\"1\" class=\"dataframe\">\n",
       "  <thead>\n",
       "    <tr style=\"text-align: right;\">\n",
       "      <th></th>\n",
       "      <th>Website</th>\n",
       "      <th>pos_neg</th>\n",
       "      <th>rating</th>\n",
       "      <th>score</th>\n",
       "    </tr>\n",
       "  </thead>\n",
       "  <tbody>\n",
       "    <tr>\n",
       "      <th>16779</th>\n",
       "      <td>BestBuy</td>\n",
       "      <td>1.0</td>\n",
       "      <td>5</td>\n",
       "      <td>0.946812</td>\n",
       "    </tr>\n",
       "    <tr>\n",
       "      <th>12527</th>\n",
       "      <td>BestBuy</td>\n",
       "      <td>1.0</td>\n",
       "      <td>5</td>\n",
       "      <td>0.946812</td>\n",
       "    </tr>\n",
       "    <tr>\n",
       "      <th>12535</th>\n",
       "      <td>BestBuy</td>\n",
       "      <td>1.0</td>\n",
       "      <td>5</td>\n",
       "      <td>0.946812</td>\n",
       "    </tr>\n",
       "    <tr>\n",
       "      <th>26985</th>\n",
       "      <td>BestBuy</td>\n",
       "      <td>1.0</td>\n",
       "      <td>5</td>\n",
       "      <td>0.946812</td>\n",
       "    </tr>\n",
       "    <tr>\n",
       "      <th>12533</th>\n",
       "      <td>BestBuy</td>\n",
       "      <td>1.0</td>\n",
       "      <td>5</td>\n",
       "      <td>0.946812</td>\n",
       "    </tr>\n",
       "    <tr>\n",
       "      <th>12531</th>\n",
       "      <td>BestBuy</td>\n",
       "      <td>1.0</td>\n",
       "      <td>5</td>\n",
       "      <td>0.946812</td>\n",
       "    </tr>\n",
       "    <tr>\n",
       "      <th>26988</th>\n",
       "      <td>BestBuy</td>\n",
       "      <td>1.0</td>\n",
       "      <td>5</td>\n",
       "      <td>0.946812</td>\n",
       "    </tr>\n",
       "    <tr>\n",
       "      <th>12529</th>\n",
       "      <td>BestBuy</td>\n",
       "      <td>1.0</td>\n",
       "      <td>5</td>\n",
       "      <td>0.946812</td>\n",
       "    </tr>\n",
       "    <tr>\n",
       "      <th>12525</th>\n",
       "      <td>BestBuy</td>\n",
       "      <td>1.0</td>\n",
       "      <td>5</td>\n",
       "      <td>0.946812</td>\n",
       "    </tr>\n",
       "    <tr>\n",
       "      <th>27039</th>\n",
       "      <td>BestBuy</td>\n",
       "      <td>1.0</td>\n",
       "      <td>5</td>\n",
       "      <td>0.946812</td>\n",
       "    </tr>\n",
       "    <tr>\n",
       "      <th>12523</th>\n",
       "      <td>BestBuy</td>\n",
       "      <td>1.0</td>\n",
       "      <td>5</td>\n",
       "      <td>0.946812</td>\n",
       "    </tr>\n",
       "    <tr>\n",
       "      <th>26994</th>\n",
       "      <td>BestBuy</td>\n",
       "      <td>1.0</td>\n",
       "      <td>5</td>\n",
       "      <td>0.946812</td>\n",
       "    </tr>\n",
       "    <tr>\n",
       "      <th>26996</th>\n",
       "      <td>BestBuy</td>\n",
       "      <td>1.0</td>\n",
       "      <td>5</td>\n",
       "      <td>0.946812</td>\n",
       "    </tr>\n",
       "    <tr>\n",
       "      <th>12519</th>\n",
       "      <td>BestBuy</td>\n",
       "      <td>1.0</td>\n",
       "      <td>5</td>\n",
       "      <td>0.946812</td>\n",
       "    </tr>\n",
       "    <tr>\n",
       "      <th>12517</th>\n",
       "      <td>BestBuy</td>\n",
       "      <td>1.0</td>\n",
       "      <td>5</td>\n",
       "      <td>0.946812</td>\n",
       "    </tr>\n",
       "  </tbody>\n",
       "</table>\n",
       "</div>"
      ],
      "text/plain": [
       "       Website  pos_neg  rating     score\n",
       "16779  BestBuy      1.0       5  0.946812\n",
       "12527  BestBuy      1.0       5  0.946812\n",
       "12535  BestBuy      1.0       5  0.946812\n",
       "26985  BestBuy      1.0       5  0.946812\n",
       "12533  BestBuy      1.0       5  0.946812\n",
       "12531  BestBuy      1.0       5  0.946812\n",
       "26988  BestBuy      1.0       5  0.946812\n",
       "12529  BestBuy      1.0       5  0.946812\n",
       "12525  BestBuy      1.0       5  0.946812\n",
       "27039  BestBuy      1.0       5  0.946812\n",
       "12523  BestBuy      1.0       5  0.946812\n",
       "26994  BestBuy      1.0       5  0.946812\n",
       "26996  BestBuy      1.0       5  0.946812\n",
       "12519  BestBuy      1.0       5  0.946812\n",
       "12517  BestBuy      1.0       5  0.946812"
      ]
     },
     "execution_count": 27,
     "metadata": {},
     "output_type": "execute_result"
    }
   ],
   "source": [
    "rev = rev.sort_values('score', ascending=False)\n",
    "\n",
    "\n",
    "rev[['Website', 'pos_neg', 'rating', 'score']].head(15)"
   ]
  },
  {
   "cell_type": "code",
   "execution_count": 28,
   "metadata": {},
   "outputs": [
    {
     "data": {
      "text/plain": [
       "(33332, 3022)"
      ]
     },
     "execution_count": 28,
     "metadata": {},
     "output_type": "execute_result"
    }
   ],
   "source": [
    "#Import TfIdfVectorizer from scikit-learn\n",
    "from sklearn.feature_extraction.text import TfidfVectorizer\n",
    "\n",
    "#Define a TF-IDF Vectorizer Object. Remove all english stop words such as 'the', 'a'\n",
    "tfidf = TfidfVectorizer(stop_words='english')\n",
    "\n",
    "#Replace NaN with an empty string\n",
    "rev['reviews_title'] = rev['reviews_title'].fillna('')\n",
    "\n",
    "#Construct the required TF-IDF matrix by fitting and transforming the data\n",
    "tfidf_matrix = tfidf.fit_transform(rev['reviews_title'])\n",
    "\n",
    "#Output the shape of tfidf_matrix\n",
    "tfidf_matrix.shape"
   ]
  },
  {
   "cell_type": "code",
   "execution_count": 29,
   "metadata": {},
   "outputs": [],
   "source": [
    "# Import linear_kernel\n",
    "from sklearn.metrics.pairwise import linear_kernel\n",
    "\n",
    "# Compute the cosine similarity matrix\n",
    "cosine_sim = linear_kernel(tfidf_matrix, tfidf_matrix)"
   ]
  },
  {
   "cell_type": "code",
   "execution_count": 32,
   "metadata": {},
   "outputs": [],
   "source": [
    "indices = pd.Series(rev.rating, index=rev['Website'])"
   ]
  },
  {
   "cell_type": "code",
   "execution_count": 33,
   "metadata": {},
   "outputs": [],
   "source": [
    "# Function that takes in movie title as input and outputs most similar \n",
    "def get_recommendations(Website, cosine_sim=cosine_sim):\n",
    "    # Get the index of the movie that matches the title\n",
    "    idx = indices[Website]\n",
    "\n",
    "    # Get the pairwsie similarity scores of all movies with \n",
    "    sim_scores = list(enumerate(cosine_sim[idx]))\n",
    "\n",
    "    # Sort the movies based on the similarity scores\n",
    "    sim_scores = sorted(sim_scores, key=lambda x: x[1], reverse=True)\n",
    "\n",
    "    # Get the scores of the 10 most similar \n",
    "    sim_scores = sim_scores[1:11]\n",
    "\n",
    "    # Get the movie indices\n",
    "    rev_indices = [i[0] for i in sim_scores]\n",
    "    # Return the top 10 most similar\n",
    "    return rev['Website'].iloc[rev_indices]"
   ]
  },
  {
   "cell_type": "code",
   "execution_count": 34,
   "metadata": {},
   "outputs": [
    {
     "ename": "IndexError",
     "evalue": "only integers, slices (`:`), ellipsis (`...`), numpy.newaxis (`None`) and integer or boolean arrays are valid indices",
     "output_type": "error",
     "traceback": [
      "\u001b[1;31m---------------------------------------------------------------------------\u001b[0m",
      "\u001b[1;31mIndexError\u001b[0m                                Traceback (most recent call last)",
      "\u001b[1;32m<ipython-input-34-e01c41b44148>\u001b[0m in \u001b[0;36m<module>\u001b[1;34m\u001b[0m\n\u001b[1;32m----> 1\u001b[1;33m \u001b[0mget_recommendations\u001b[0m\u001b[1;33m(\u001b[0m\u001b[1;34m'Amazon'\u001b[0m\u001b[1;33m)\u001b[0m\u001b[1;33m\u001b[0m\u001b[1;33m\u001b[0m\u001b[0m\n\u001b[0m",
      "\u001b[1;32m<ipython-input-33-58dd557da3c3>\u001b[0m in \u001b[0;36mget_recommendations\u001b[1;34m(Website, cosine_sim)\u001b[0m\n\u001b[0;32m      5\u001b[0m \u001b[1;33m\u001b[0m\u001b[0m\n\u001b[0;32m      6\u001b[0m     \u001b[1;31m# Get the pairwsie similarity scores of all movies with\u001b[0m\u001b[1;33m\u001b[0m\u001b[1;33m\u001b[0m\u001b[1;33m\u001b[0m\u001b[0m\n\u001b[1;32m----> 7\u001b[1;33m     \u001b[0msim_scores\u001b[0m \u001b[1;33m=\u001b[0m \u001b[0mlist\u001b[0m\u001b[1;33m(\u001b[0m\u001b[0menumerate\u001b[0m\u001b[1;33m(\u001b[0m\u001b[0mcosine_sim\u001b[0m\u001b[1;33m[\u001b[0m\u001b[0midx\u001b[0m\u001b[1;33m]\u001b[0m\u001b[1;33m)\u001b[0m\u001b[1;33m)\u001b[0m\u001b[1;33m\u001b[0m\u001b[1;33m\u001b[0m\u001b[0m\n\u001b[0m\u001b[0;32m      8\u001b[0m \u001b[1;33m\u001b[0m\u001b[0m\n\u001b[0;32m      9\u001b[0m     \u001b[1;31m# Sort the movies based on the similarity scores\u001b[0m\u001b[1;33m\u001b[0m\u001b[1;33m\u001b[0m\u001b[1;33m\u001b[0m\u001b[0m\n",
      "\u001b[1;31mIndexError\u001b[0m: only integers, slices (`:`), ellipsis (`...`), numpy.newaxis (`None`) and integer or boolean arrays are valid indices"
     ]
    }
   ],
   "source": [
    "get_recommendations('Amazon')"
   ]
  },
  {
   "cell_type": "code",
   "execution_count": 161,
   "metadata": {},
   "outputs": [],
   "source": [
    "features = [\"reviews_title\",\"rating\",\"Website\",\"primaryCategories\",\"sourceURLs_review\"]\n",
    "\n",
    "for feature in features:\n",
    "  rev[feature] = rev[feature].fillna('')"
   ]
  },
  {
   "cell_type": "code",
   "execution_count": 162,
   "metadata": {},
   "outputs": [],
   "source": [
    "def combine_features(row):\n",
    " try:\n",
    "    return row['reviews_title'] +\" \"+row['Website'] +\" \"+row['primaryCategories'] +\" \"+row['sourceURLs_review']\n",
    " except:\n",
    "    print(\"Error:\", row)\n",
    "    \n",
    "rev[\"combined_features\"] = rev.apply(combine_features,axis=1)"
   ]
  },
  {
   "cell_type": "code",
   "execution_count": 163,
   "metadata": {},
   "outputs": [],
   "source": [
    "from nltk.corpus import stopwords"
   ]
  },
  {
   "cell_type": "code",
   "execution_count": 164,
   "metadata": {},
   "outputs": [],
   "source": [
    "stop_words = stopwords.words('english')\n",
    "rev['combined_features'] = rev['combined_features'].str.lower().str.split()\n",
    "rev[\"features\"]=rev[\"combined_features\"].apply(lambda x: [word for word in x if word not in stop_words])\n",
    "rev[\"features\"]=rev[\"features\"].apply(lambda x: \" \".join(x))"
   ]
  },
  {
   "cell_type": "code",
   "execution_count": 165,
   "metadata": {},
   "outputs": [],
   "source": [
    "cv = CountVectorizer()\n",
    "count_matrix = cv.fit_transform(rev[\"features\"])"
   ]
  },
  {
   "cell_type": "code",
   "execution_count": 151,
   "metadata": {},
   "outputs": [],
   "source": [
    "from sklearn.feature_extraction.text import CountVectorizer\n",
    "from sklearn.metrics.pairwise import cosine_similarity"
   ]
  },
  {
   "cell_type": "code",
   "execution_count": 136,
   "metadata": {},
   "outputs": [],
   "source": [
    "cosine_sim = cosine_similarity(count_matrix)"
   ]
  },
  {
   "cell_type": "code",
   "execution_count": 184,
   "metadata": {},
   "outputs": [],
   "source": [
    "def get_title_from_index(primary_categories):\n",
    "    return rev[rev.Website == primary_categories][\"Website\"].values[0]\n",
    "\n",
    "def get_home():\n",
    "    return rev[rev.sourceURLs_review == reviews_title][\"sourceURLs_review\"].values[0]\n",
    "\n",
    "def get_index_from_title(reviews_title):\n",
    "    return rev[rev.primaryCategories == reviews_title][\"primaryCategories\"].values[0]"
   ]
  },
  {
   "cell_type": "code",
   "execution_count": 191,
   "metadata": {},
   "outputs": [],
   "source": [
    "indices = pd.Series(rev.index, index=rev['Website']).drop_duplicates()"
   ]
  },
  {
   "cell_type": "code",
   "execution_count": 192,
   "metadata": {},
   "outputs": [],
   "source": [
    "category = 'Health & Beauty'"
   ]
  },
  {
   "cell_type": "code",
   "execution_count": 193,
   "metadata": {},
   "outputs": [
    {
     "ename": "IndexError",
     "evalue": "only integers, slices (`:`), ellipsis (`...`), numpy.newaxis (`None`) and integer or boolean arrays are valid indices",
     "output_type": "error",
     "traceback": [
      "\u001b[1;31m---------------------------------------------------------------------------\u001b[0m",
      "\u001b[1;31mIndexError\u001b[0m                                Traceback (most recent call last)",
      "\u001b[1;32m<ipython-input-193-f721cc38b2f1>\u001b[0m in \u001b[0;36m<module>\u001b[1;34m\u001b[0m\n\u001b[0;32m      1\u001b[0m \u001b[0mproduct_index\u001b[0m \u001b[1;33m=\u001b[0m \u001b[0mget_index_from_title\u001b[0m\u001b[1;33m(\u001b[0m\u001b[1;34m'Health & Beauty'\u001b[0m\u001b[1;33m)\u001b[0m\u001b[1;33m\u001b[0m\u001b[1;33m\u001b[0m\u001b[0m\n\u001b[0;32m      2\u001b[0m \u001b[1;33m\u001b[0m\u001b[0m\n\u001b[1;32m----> 3\u001b[1;33m \u001b[0msimilar_products\u001b[0m \u001b[1;33m=\u001b[0m  \u001b[0mlist\u001b[0m\u001b[1;33m(\u001b[0m\u001b[0menumerate\u001b[0m\u001b[1;33m(\u001b[0m\u001b[0mcosine_sim\u001b[0m\u001b[1;33m[\u001b[0m\u001b[0mproduct_index\u001b[0m\u001b[1;33m]\u001b[0m\u001b[1;33m)\u001b[0m\u001b[1;33m)\u001b[0m\u001b[1;33m\u001b[0m\u001b[1;33m\u001b[0m\u001b[0m\n\u001b[0m\u001b[0;32m      4\u001b[0m \u001b[1;33m\u001b[0m\u001b[0m\n\u001b[0;32m      5\u001b[0m \u001b[0msorted_similar_products\u001b[0m \u001b[1;33m=\u001b[0m \u001b[0msorted\u001b[0m\u001b[1;33m(\u001b[0m\u001b[0msimilar_products\u001b[0m\u001b[1;33m,\u001b[0m\u001b[0mkey\u001b[0m\u001b[1;33m=\u001b[0m\u001b[1;32mlambda\u001b[0m \u001b[0mx\u001b[0m\u001b[1;33m:\u001b[0m\u001b[0mx\u001b[0m\u001b[1;33m[\u001b[0m\u001b[1;36m1\u001b[0m\u001b[1;33m]\u001b[0m\u001b[1;33m,\u001b[0m\u001b[0mreverse\u001b[0m\u001b[1;33m=\u001b[0m\u001b[1;32mTrue\u001b[0m\u001b[1;33m)\u001b[0m\u001b[1;33m\u001b[0m\u001b[1;33m\u001b[0m\u001b[0m\n",
      "\u001b[1;31mIndexError\u001b[0m: only integers, slices (`:`), ellipsis (`...`), numpy.newaxis (`None`) and integer or boolean arrays are valid indices"
     ]
    }
   ],
   "source": [
    "product_index = get_index_from_title('Health & Beauty')\n",
    "\n",
    "similar_products =  list(enumerate(cosine_sim[product_index]))\n",
    "\n",
    "sorted_similar_products = sorted(similar_products,key=lambda x:x[1],reverse=True)"
   ]
  },
  {
   "cell_type": "code",
   "execution_count": null,
   "metadata": {},
   "outputs": [],
   "source": []
  }
 ],
 "metadata": {
  "kernelspec": {
   "display_name": "Python 3",
   "language": "python",
   "name": "python3"
  },
  "language_info": {
   "codemirror_mode": {
    "name": "ipython",
    "version": 3
   },
   "file_extension": ".py",
   "mimetype": "text/x-python",
   "name": "python",
   "nbconvert_exporter": "python",
   "pygments_lexer": "ipython3",
   "version": "3.6.9"
  }
 },
 "nbformat": 4,
 "nbformat_minor": 2
}
